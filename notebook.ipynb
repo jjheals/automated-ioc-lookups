{
 "cells": [
  {
   "cell_type": "markdown",
   "metadata": {},
   "source": [
    "# Lookup API Integrations \n",
    "\n",
    "This notebook gives examples of how to use these API integrations."
   ]
  },
  {
   "cell_type": "markdown",
   "metadata": {},
   "source": [
    "## Loading Test Data"
   ]
  },
  {
   "cell_type": "code",
   "execution_count": 1,
   "metadata": {},
   "outputs": [
    {
     "name": "stdout",
     "output_type": "stream",
     "text": [
      "\u001b[90mGot \u001b[92m100 \u001b[90mtotal IOCs.\n"
     ]
    }
   ],
   "source": [
    "from objects import get_ioc_type\n",
    "\n",
    "iocs:list[str] = open('data/test-input-iocs.txt', 'r').read().splitlines()\n",
    "print(f'\\033[90mGot \\033[92m{len(iocs)} \\033[90mtotal IOCs.')\n",
    "\n",
    "# Convert the iocs to dicts with the value and type\n",
    "iocs_as_dicts:list[dict] = []\n",
    "for ioc in iocs: \n",
    "    iocs_as_dicts.append({\n",
    "        'value': ioc,\n",
    "        'type': get_ioc_type(ioc)\n",
    "    })\n"
   ]
  },
  {
   "cell_type": "markdown",
   "metadata": {},
   "source": [
    "## Loading config"
   ]
  },
  {
   "cell_type": "code",
   "execution_count": 2,
   "metadata": {},
   "outputs": [],
   "source": [
    "import json \n",
    "\n",
    "with open('config/config.json', 'r') as file: \n",
    "    config:dict = json.load(file)               # Loading the config json\n",
    "    tokens:dict[str, str] = config['tokens']    # Get the API tokens from the config dict\n",
    "    \n",
    "# Defining an output directory for analyzing results of testing/understanding output formats \n",
    "output_dir:str = 'data/test-outputs/' "
   ]
  },
  {
   "cell_type": "markdown",
   "metadata": {},
   "source": [
    "## Init APIs"
   ]
  },
  {
   "cell_type": "code",
   "execution_count": 3,
   "metadata": {},
   "outputs": [],
   "source": [
    "from objects import IPInfoAPI, VirusTotalAPI\n",
    "\n",
    "ipinfo_api:IPInfoAPI = IPInfoAPI(tokens['ipinfo'])\n",
    "virustotal_api:VirusTotalAPI = VirusTotalAPI(tokens['virustotal'])"
   ]
  },
  {
   "cell_type": "markdown",
   "metadata": {},
   "source": [
    "## Conduct lookups on all the IOCs using each API"
   ]
  },
  {
   "cell_type": "code",
   "execution_count": 4,
   "metadata": {},
   "outputs": [
    {
     "name": "stdout",
     "output_type": "stream",
     "text": [
      "\u001b[33mNOTICE: \u001b[90mNo results found for \"63.116.104.5\" (VirusTotal)\n",
      "\u001b[33mNOTICE: \u001b[90mNo results found for \"104.238.130.180\" (VirusTotal)\n",
      "\u001b[33mNOTICE: \u001b[90mNo results found for \"149.56.1.33\" (VirusTotal)\n",
      "\u001b[33mNOTICE: \u001b[90mNo results found for \"173.194.0.56\" (VirusTotal)\n",
      "\u001b[33mNOTICE: \u001b[90mNo results found for \"185.60.216.35\" (VirusTotal)\n",
      "\u001b[33mNOTICE: \u001b[90mNo results found for \"204.79.197.200\" (VirusTotal)\n",
      "\u001b[33mNOTICE: \u001b[90mNo results found for \"205.251.242.103\" (VirusTotal)\n",
      "\u001b[33mNOTICE: \u001b[90mNo results found for \"13.35.20.0\" (VirusTotal)\n",
      "\u001b[33mNOTICE: \u001b[90mNo results found for \"23.211.123.0\" (VirusTotal)\n",
      "\u001b[33mNOTICE: \u001b[90mNo results found for \"34.117.59.0\" (VirusTotal)\n",
      "\u001b[33mNOTICE: \u001b[90mNo results found for \"google.com\" (VirusTotal)\n",
      "\u001b[33mNOTICE: \u001b[90mNo results found for \"facebook.com\" (VirusTotal)\n",
      "\u001b[33mNOTICE: \u001b[90mNo results found for \"amazon.com\" (VirusTotal)\n",
      "\u001b[33mNOTICE: \u001b[90mNo results found for \"apple.com\" (VirusTotal)\n",
      "\u001b[33mNOTICE: \u001b[90mNo results found for \"microsoft.com\" (VirusTotal)\n",
      "\u001b[33mNOTICE: \u001b[90mNo results found for \"yahoo.com\" (VirusTotal)\n",
      "\u001b[33mNOTICE: \u001b[90mNo results found for \"youtube.com\" (VirusTotal)\n",
      "\u001b[33mNOTICE: \u001b[90mNo results found for \"wikipedia.org\" (VirusTotal)\n",
      "\u001b[33mNOTICE: \u001b[90mNo results found for \"linkedin.com\" (VirusTotal)\n",
      "\u001b[33mNOTICE: \u001b[90mNo results found for \"instagram.com\" (VirusTotal)\n",
      "\u001b[33mNOTICE: \u001b[90mNo results found for \"twitter.com\" (VirusTotal)\n",
      "\u001b[33mNOTICE: \u001b[90mNo results found for \"netflix.com\" (VirusTotal)\n",
      "\u001b[33mNOTICE: \u001b[90mNo results found for \"bing.com\" (VirusTotal)\n",
      "\u001b[33mNOTICE: \u001b[90mNo results found for \"ebay.com\" (VirusTotal)\n",
      "\u001b[33mNOTICE: \u001b[90mNo results found for \"reddit.com\" (VirusTotal)\n",
      "\u001b[33mNOTICE: \u001b[90mNo results found for \"paypal.com\" (VirusTotal)\n",
      "\u001b[33mNOTICE: \u001b[90mNo results found for \"spotify.com\" (VirusTotal)\n",
      "\u001b[33mNOTICE: \u001b[90mNo results found for \"zoom.us\" (VirusTotal)\n",
      "\u001b[33mNOTICE: \u001b[90mNo results found for \"github.com\" (VirusTotal)\n",
      "\u001b[33mNOTICE: \u001b[90mNo results found for \"wordpress.com\" (VirusTotal)\n",
      "\u001b[33mNOTICE: \u001b[90mNo results found for \"cnn.com\" (VirusTotal)\n",
      "\u001b[33mNOTICE: \u001b[90mNo results found for \"nytimes.com\" (VirusTotal)\n",
      "\u001b[33mNOTICE: \u001b[90mNo results found for \"bbc.com\" (VirusTotal)\n",
      "\u001b[33mNOTICE: \u001b[90mNo results found for \"huffpost.com\" (VirusTotal)\n",
      "\u001b[33mNOTICE: \u001b[90mNo results found for \"forbes.com\" (VirusTotal)\n",
      "\u001b[33mNOTICE: \u001b[90mNo results found for \"foxnews.com\" (VirusTotal)\n",
      "\u001b[33mNOTICE: \u001b[90mNo results found for \"weather.com\" (VirusTotal)\n",
      "\u001b[33mNOTICE: \u001b[90mNo results found for \"theguardian.com\" (VirusTotal)\n",
      "\u001b[33mNOTICE: \u001b[90mNo results found for \"usatoday.com\" (VirusTotal)\n",
      "\u001b[33mNOTICE: \u001b[90mNo results found for \"nbcnews.com\" (VirusTotal)\n",
      "\u001b[33mNOTICE: \u001b[90mNo results found for \"cnbc.com\" (VirusTotal)\n",
      "\u001b[33mNOTICE: \u001b[90mNo results found for \"bloomberg.com\" (VirusTotal)\n",
      "\u001b[33mNOTICE: \u001b[90mNo results found for \"businessinsider.com\" (VirusTotal)\n",
      "\u001b[33mNOTICE: \u001b[90mNo results found for \"techcrunch.com\" (VirusTotal)\n",
      "\u001b[33mNOTICE: \u001b[90mNo results found for \"venturebeat.com\" (VirusTotal)\n",
      "\u001b[33mNOTICE: \u001b[90mNo results found for \"wired.com\" (VirusTotal)\n",
      "\u001b[33mNOTICE: \u001b[90mNo results found for \"mashable.com\" (VirusTotal)\n",
      "\u001b[33mNOTICE: \u001b[90mNo results found for \"thenextweb.com\" (VirusTotal)\n",
      "\u001b[33mNOTICE: \u001b[90mNo results found for \"engadget.com\" (VirusTotal)\n",
      "\u001b[33mNOTICE: \u001b[90mNo results found for \"cnet.com\" (VirusTotal)\n",
      "\u001b[33mNOTICE: \u001b[90mNo results found for \"gizmodo.com\" (VirusTotal)\n",
      "\u001b[33mNOTICE: \u001b[90mNo results found for \"arstechnica.com\" (VirusTotal)\n",
      "\u001b[33mNOTICE: \u001b[90mNo results found for \"zdnet.com\" (VirusTotal)\n",
      "\u001b[33mNOTICE: \u001b[90mNo results found for \"slashdot.org\" (VirusTotal)\n",
      "\u001b[33mNOTICE: \u001b[90mNo results found for \"lifehacker.com\" (VirusTotal)\n",
      "\u001b[33mNOTICE: \u001b[90mNo results found for \"9to5mac.com\" (VirusTotal)\n",
      "\u001b[33mNOTICE: \u001b[90mNo results found for \"macrumors.com\" (VirusTotal)\n",
      "\u001b[33mNOTICE: \u001b[90mNo results found for \"imdb.com\" (VirusTotal)\n",
      "\u001b[33mNOTICE: \u001b[90mNo results found for \"rottentomatoes.com\" (VirusTotal)\n",
      "\u001b[33mNOTICE: \u001b[90mNo results found for \"espn.com\" (VirusTotal)\n",
      "\u001b[91mERROR: \u001b[90mIPInfoAPI.lookup_iocs(): error looking up the IOC \"{'value': '91.198.174.192', 'type': 'IPAddress'}\"\n",
      "invalid literal for int() with base 10: ''\n",
      "\u001b[91mERROR: \u001b[90mIPInfoAPI.lookup_iocs(): error looking up the IOC \"{'value': '192.0.2.1', 'type': 'IPAddress'}\"\n",
      "invalid literal for int() with base 10: ''\n",
      "\u001b[91mERROR: \u001b[90mIPInfoAPI.lookup_iocs(): error looking up the IOC \"{'value': '198.51.100.1', 'type': 'IPAddress'}\"\n",
      "invalid literal for int() with base 10: ''\n",
      "\u001b[91mERROR: \u001b[90mIPInfoAPI.lookup_iocs(): error looking up the IOC \"{'value': '198.51.100.2', 'type': 'IPAddress'}\"\n",
      "invalid literal for int() with base 10: ''\n",
      "\u001b[91mERROR: \u001b[90mIPInfoAPI.lookup_iocs(): error looking up the IOC \"{'value': '203.0.113.1', 'type': 'IPAddress'}\"\n",
      "invalid literal for int() with base 10: ''\n",
      "\u001b[91mERROR: \u001b[90mIPInfoAPI.lookup_iocs(): error looking up the IOC \"{'value': '203.0.113.2', 'type': 'IPAddress'}\"\n",
      "invalid literal for int() with base 10: ''\n",
      "\u001b[91mERROR: \u001b[90mIPInfoAPI.lookup_iocs(): error looking up the IOC \"{'value': '52.95.110.1', 'type': 'IPAddress'}\"\n",
      "invalid literal for int() with base 10: ''\n",
      "\u001b[91mERROR: \u001b[90mIPInfoAPI.lookup_iocs(): error looking up the IOC \"{'value': '54.192.35.18', 'type': 'IPAddress'}\"\n",
      "invalid literal for int() with base 10: ''\n"
     ]
    }
   ],
   "source": [
    "vt_results:list[dict] = virustotal_api.lookup_iocs(iocs_as_dicts)\n",
    "ipinfo_results:list[dict] = ipinfo_api.lookup_iocs(iocs_as_dicts)"
   ]
  },
  {
   "cell_type": "markdown",
   "metadata": {},
   "source": [
    "**Combine the VT and IPInfo results**"
   ]
  },
  {
   "cell_type": "code",
   "execution_count": 5,
   "metadata": {},
   "outputs": [],
   "source": [
    "from objects import combine_vt_ipinfo_results, SSLCert\n",
    "import pandas as pd\n",
    "\n",
    "# Combine the results\n",
    "ip_results, domain_results, sslcert_results = combine_vt_ipinfo_results(\n",
    "    { ioc['value'] : ioc for ioc in vt_results },\n",
    "    { ioc['value'] : ioc for ioc in ipinfo_results }\n",
    ")\n",
    "\n",
    "# Create dataframes from the results\n",
    "ip_results_df:pd.DataFrame = pd.DataFrame(ip_results)\n",
    "domain_results_df:pd.DataFrame = pd.DataFrame(domain_results)\n",
    "sslcert_results_df:pd.DataFrame = pd.DataFrame([ SSLCert(d).to_table_rows() for d in sslcert_results ])\n"
   ]
  },
  {
   "cell_type": "markdown",
   "metadata": {},
   "source": [
    "**Dump the combined results to JSONs and CSV/Excel**"
   ]
  },
  {
   "cell_type": "code",
   "execution_count": 6,
   "metadata": {},
   "outputs": [],
   "source": [
    "with open(output_dir + 'ip_results.json', 'w+') as file: \n",
    "    json.dump(ip_results, file, indent=4)\n",
    "    \n",
    "with open(output_dir + 'domain_results.json', 'w+') as file: \n",
    "    json.dump(domain_results, file, indent=4)\n",
    "    \n",
    "with open(output_dir + 'sslcert_results.json', 'w+') as file: \n",
    "    json.dump(sslcert_results, file, indent=4)\n",
    "    \n",
    "ip_results_df.to_csv(output_dir + 'ip_results.csv', index=False)\n",
    "domain_results_df.to_csv(output_dir + 'domain_results.csv', index=False)\n",
    "sslcert_results_df.to_csv(output_dir + 'sslcert_results.csv', index=False)"
   ]
  },
  {
   "cell_type": "code",
   "execution_count": 7,
   "metadata": {},
   "outputs": [],
   "source": [
    "with open('vt_results.json', 'w+') as file:\n",
    "    json.dump(vt_results, file, indent=4)"
   ]
  }
 ],
 "metadata": {
  "kernelspec": {
   "display_name": "Python 3",
   "language": "python",
   "name": "python3"
  },
  "language_info": {
   "codemirror_mode": {
    "name": "ipython",
    "version": 3
   },
   "file_extension": ".py",
   "mimetype": "text/x-python",
   "name": "python",
   "nbconvert_exporter": "python",
   "pygments_lexer": "ipython3",
   "version": "3.11.4"
  }
 },
 "nbformat": 4,
 "nbformat_minor": 2
}
