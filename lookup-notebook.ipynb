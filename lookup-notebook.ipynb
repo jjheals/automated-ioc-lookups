{
 "cells": [
  {
   "cell_type": "markdown",
   "metadata": {},
   "source": [
    "# Lookup API Integrations \n",
    "\n",
    "This notebook gives examples of how to use these API integrations."
   ]
  },
  {
   "cell_type": "markdown",
   "metadata": {},
   "source": [
    "## Loading Test Data"
   ]
  },
  {
   "cell_type": "markdown",
   "metadata": {},
   "source": [
    "This cell loads all the initial data needed, i.e. the input IOCs list from the input txt file (see [README](README.md))."
   ]
  },
  {
   "cell_type": "code",
   "execution_count": null,
   "metadata": {},
   "outputs": [],
   "source": [
    "from objects import get_ioc_type\n",
    "\n",
    "iocs:list[str] = open('data/test-input-iocs.txt', 'r').read().splitlines()\n",
    "print(f'\\033[90mGot \\033[92m{len(iocs)} \\033[90mtotal IOCs.')\n",
    "\n",
    "# Convert the iocs to dicts with the value and type\n",
    "iocs_as_dicts:list[dict] = []\n",
    "for ioc in iocs: \n",
    "    iocs_as_dicts.append({\n",
    "        'value': ioc,\n",
    "        'type': get_ioc_type(ioc)\n",
    "    })"
   ]
  },
  {
   "cell_type": "markdown",
   "metadata": {},
   "source": [
    "## Loading config"
   ]
  },
  {
   "cell_type": "markdown",
   "metadata": {},
   "source": [
    "This cell loads all the configuration settings from the [config JSON](config/config.json)."
   ]
  },
  {
   "cell_type": "code",
   "execution_count": null,
   "metadata": {},
   "outputs": [],
   "source": [
    "import json \n",
    "\n",
    "with open('config/config.json', 'r') as file: \n",
    "    config:dict = json.load(file)               # Loading the config json\n",
    "    tokens:dict[str, str] = config['tokens']    # Get the API tokens from the config dict\n",
    "    \n",
    "# Defining an output directory for analyzing results of testing/understanding output formats \n",
    "json_output_dir:str = 'data/test-outputs/jsons/' \n",
    "csv_output_dir:str = 'data/test-outputs/csvs/' "
   ]
  },
  {
   "cell_type": "markdown",
   "metadata": {},
   "source": [
    "## Init APIs & Conduct Lookups"
   ]
  },
  {
   "cell_type": "markdown",
   "metadata": {},
   "source": [
    "This cell instantiates the API wrapper classes that interact with the lookup APIs. "
   ]
  },
  {
   "cell_type": "code",
   "execution_count": null,
   "metadata": {},
   "outputs": [],
   "source": [
    "from objects import IPInfoAPI, VirusTotalAPI\n",
    "\n",
    "ipinfo_api:IPInfoAPI = IPInfoAPI(tokens['ipinfo'])\n",
    "virustotal_api:VirusTotalAPI = VirusTotalAPI(tokens['virustotal'])"
   ]
  },
  {
   "cell_type": "markdown",
   "metadata": {},
   "source": [
    "This cell conducts lookups on all the IOCs loaded in the first step using the APIs instantiated in the previous step."
   ]
  },
  {
   "cell_type": "code",
   "execution_count": null,
   "metadata": {},
   "outputs": [],
   "source": [
    "vt_results:list[dict] = virustotal_api.lookup_iocs(iocs_as_dicts)\n",
    "ipinfo_results:list[dict] = ipinfo_api.lookup_iocs(iocs_as_dicts)"
   ]
  },
  {
   "cell_type": "markdown",
   "metadata": {},
   "source": [
    "**Combine the VT and IPInfo results**"
   ]
  },
  {
   "cell_type": "code",
   "execution_count": null,
   "metadata": {},
   "outputs": [],
   "source": [
    "from objects import combine_vt_ipinfo_results, SSLCert\n",
    "import pandas as pd\n",
    "\n",
    "# Combine the results\n",
    "ip_results, domain_results, dns_results, sslcert_results = combine_vt_ipinfo_results(\n",
    "    { ioc['value'] : ioc for ioc in vt_results },\n",
    "    { ioc['value'] : ioc for ioc in ipinfo_results }\n",
    ")\n",
    "\n",
    "# Convert the SSL cert dicts to SSLCert objs, get the table rows, AND extract the alternative names from the SSL certs\n",
    "sslcert_table_rows:list[SSLCert] = []\n",
    "sslcert_alt_names:list[dict] = []\n",
    "\n",
    "for d in sslcert_results: \n",
    "    this_sslcert:SSLCert = SSLCert(d)\n",
    "    sslcert_table_rows.append(this_sslcert.to_table_rows())\n",
    "    sslcert_alt_names.extend(this_sslcert.alt_name_to_table_rows())\n",
    "    \n",
    "# Create dataframes from the results\n",
    "ip_results_df:pd.DataFrame = pd.DataFrame(ip_results)\n",
    "domain_results_df:pd.DataFrame = pd.DataFrame(domain_results)\n",
    "dns_results_df:pd.DataFrame = pd.DataFrame(dns_results)\n",
    "sslcert_results_df:pd.DataFrame = pd.DataFrame(sslcert_table_rows)\n",
    "sslcert_alt_names_df:pd.DataFrame = pd.DataFrame(sslcert_alt_names)\n",
    "\n"
   ]
  },
  {
   "cell_type": "markdown",
   "metadata": {},
   "source": [
    "**Dump the combined results to JSONs and CSV/Excel**"
   ]
  },
  {
   "cell_type": "code",
   "execution_count": null,
   "metadata": {},
   "outputs": [],
   "source": [
    "with open(os.path.join(json_output_dir, 'ip_results.json'), 'w+') as file: \n",
    "    json.dump(ip_results, file, indent=4)\n",
    "    \n",
    "with open(os.path.join(json_output_dir, 'domain_results.json'), 'w+') as file: \n",
    "    json.dump(domain_results, file, indent=4)\n",
    "    \n",
    "with open(os.path.join(json_output_dir, 'dns_results.json'), 'w+') as file: \n",
    "    json.dump(dns_results, file, indent=4)\n",
    "    \n",
    "with open(os.path.join(json_output_dir, 'sslcert_results.json'), 'w+') as file: \n",
    "    json.dump(sslcert_results, file, indent=4)\n",
    "\n",
    "with open(os.path.join(json_output_dir, 'sslcert_alt_names.json'), 'w+') as file: \n",
    "    json.dump(sslcert_alt_names, file, indent=4)\n",
    "    \n",
    "ip_results_df.to_csv(os.path.join(csv_output_dir, 'ip_results.csv'), index=False)\n",
    "domain_results_df.to_csv(os.path.join(csv_output_dir, 'domain_results.csv'), index=False)\n",
    "dns_results_df.to_csv(os.path.join(csv_output_dir, 'dns_results.csv'), index=False)\n",
    "sslcert_results_df.to_csv(os.path.join(csv_output_dir, 'sslcert_results.csv'), index=False)\n",
    "sslcert_alt_names_df.to_csv(os.path.join(csv_output_dir, 'sslcert_alt_names.csv'), index=False)"
   ]
  }
 ],
 "metadata": {
  "kernelspec": {
   "display_name": "Python 3",
   "language": "python",
   "name": "python3"
  },
  "language_info": {
   "codemirror_mode": {
    "name": "ipython",
    "version": 3
   },
   "file_extension": ".py",
   "mimetype": "text/x-python",
   "name": "python",
   "nbconvert_exporter": "python",
   "pygments_lexer": "ipython3",
   "version": "3.11.4"
  }
 },
 "nbformat": 4,
 "nbformat_minor": 2
}
